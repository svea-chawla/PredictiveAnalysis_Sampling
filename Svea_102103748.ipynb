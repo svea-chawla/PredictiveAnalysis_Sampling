{
 "cells": [
  {
   "cell_type": "code",
   "execution_count": 70,
   "metadata": {},
   "outputs": [],
   "source": [
    "import pandas as pd\n",
    "import numpy as np\n",
    "\n",
    "from collections import Counter\n",
    "from imblearn.over_sampling import SMOTE\n",
    "from sklearn.model_selection import train_test_split"
   ]
  },
  {
   "cell_type": "code",
   "execution_count": 71,
   "metadata": {},
   "outputs": [
    {
     "data": {
      "text/html": [
       "<div>\n",
       "<style scoped>\n",
       "    .dataframe tbody tr th:only-of-type {\n",
       "        vertical-align: middle;\n",
       "    }\n",
       "\n",
       "    .dataframe tbody tr th {\n",
       "        vertical-align: top;\n",
       "    }\n",
       "\n",
       "    .dataframe thead th {\n",
       "        text-align: right;\n",
       "    }\n",
       "</style>\n",
       "<table border=\"1\" class=\"dataframe\">\n",
       "  <thead>\n",
       "    <tr style=\"text-align: right;\">\n",
       "      <th></th>\n",
       "      <th>Time</th>\n",
       "      <th>V1</th>\n",
       "      <th>V2</th>\n",
       "      <th>V3</th>\n",
       "      <th>V4</th>\n",
       "      <th>V5</th>\n",
       "      <th>V6</th>\n",
       "      <th>V7</th>\n",
       "      <th>V8</th>\n",
       "      <th>V9</th>\n",
       "      <th>...</th>\n",
       "      <th>V21</th>\n",
       "      <th>V22</th>\n",
       "      <th>V23</th>\n",
       "      <th>V24</th>\n",
       "      <th>V25</th>\n",
       "      <th>V26</th>\n",
       "      <th>V27</th>\n",
       "      <th>V28</th>\n",
       "      <th>Amount</th>\n",
       "      <th>Class</th>\n",
       "    </tr>\n",
       "  </thead>\n",
       "  <tbody>\n",
       "    <tr>\n",
       "      <th>0</th>\n",
       "      <td>0</td>\n",
       "      <td>-1.359807</td>\n",
       "      <td>-0.072781</td>\n",
       "      <td>2.536347</td>\n",
       "      <td>1.378155</td>\n",
       "      <td>-0.338321</td>\n",
       "      <td>0.462388</td>\n",
       "      <td>0.239599</td>\n",
       "      <td>0.098698</td>\n",
       "      <td>0.363787</td>\n",
       "      <td>...</td>\n",
       "      <td>-0.018307</td>\n",
       "      <td>0.277838</td>\n",
       "      <td>-0.110474</td>\n",
       "      <td>0.066928</td>\n",
       "      <td>0.128539</td>\n",
       "      <td>-0.189115</td>\n",
       "      <td>0.133558</td>\n",
       "      <td>-0.021053</td>\n",
       "      <td>149.62</td>\n",
       "      <td>0</td>\n",
       "    </tr>\n",
       "    <tr>\n",
       "      <th>1</th>\n",
       "      <td>0</td>\n",
       "      <td>1.191857</td>\n",
       "      <td>0.266151</td>\n",
       "      <td>0.166480</td>\n",
       "      <td>0.448154</td>\n",
       "      <td>0.060018</td>\n",
       "      <td>-0.082361</td>\n",
       "      <td>-0.078803</td>\n",
       "      <td>0.085102</td>\n",
       "      <td>-0.255425</td>\n",
       "      <td>...</td>\n",
       "      <td>-0.225775</td>\n",
       "      <td>-0.638672</td>\n",
       "      <td>0.101288</td>\n",
       "      <td>-0.339846</td>\n",
       "      <td>0.167170</td>\n",
       "      <td>0.125895</td>\n",
       "      <td>-0.008983</td>\n",
       "      <td>0.014724</td>\n",
       "      <td>2.69</td>\n",
       "      <td>1</td>\n",
       "    </tr>\n",
       "    <tr>\n",
       "      <th>2</th>\n",
       "      <td>1</td>\n",
       "      <td>-1.358354</td>\n",
       "      <td>-1.340163</td>\n",
       "      <td>1.773209</td>\n",
       "      <td>0.379780</td>\n",
       "      <td>-0.503198</td>\n",
       "      <td>1.800499</td>\n",
       "      <td>0.791461</td>\n",
       "      <td>0.247676</td>\n",
       "      <td>-1.514654</td>\n",
       "      <td>...</td>\n",
       "      <td>0.247998</td>\n",
       "      <td>0.771679</td>\n",
       "      <td>0.909412</td>\n",
       "      <td>-0.689281</td>\n",
       "      <td>-0.327642</td>\n",
       "      <td>-0.139097</td>\n",
       "      <td>-0.055353</td>\n",
       "      <td>-0.059752</td>\n",
       "      <td>378.66</td>\n",
       "      <td>0</td>\n",
       "    </tr>\n",
       "    <tr>\n",
       "      <th>3</th>\n",
       "      <td>1</td>\n",
       "      <td>-0.966272</td>\n",
       "      <td>-0.185226</td>\n",
       "      <td>1.792993</td>\n",
       "      <td>-0.863291</td>\n",
       "      <td>-0.010309</td>\n",
       "      <td>1.247203</td>\n",
       "      <td>0.237609</td>\n",
       "      <td>0.377436</td>\n",
       "      <td>-1.387024</td>\n",
       "      <td>...</td>\n",
       "      <td>-0.108300</td>\n",
       "      <td>0.005274</td>\n",
       "      <td>-0.190321</td>\n",
       "      <td>-1.175575</td>\n",
       "      <td>0.647376</td>\n",
       "      <td>-0.221929</td>\n",
       "      <td>0.062723</td>\n",
       "      <td>0.061458</td>\n",
       "      <td>123.50</td>\n",
       "      <td>0</td>\n",
       "    </tr>\n",
       "    <tr>\n",
       "      <th>4</th>\n",
       "      <td>2</td>\n",
       "      <td>-1.158233</td>\n",
       "      <td>0.877737</td>\n",
       "      <td>1.548718</td>\n",
       "      <td>0.403034</td>\n",
       "      <td>-0.407193</td>\n",
       "      <td>0.095921</td>\n",
       "      <td>0.592941</td>\n",
       "      <td>-0.270533</td>\n",
       "      <td>0.817739</td>\n",
       "      <td>...</td>\n",
       "      <td>-0.009431</td>\n",
       "      <td>0.798278</td>\n",
       "      <td>-0.137458</td>\n",
       "      <td>0.141267</td>\n",
       "      <td>-0.206010</td>\n",
       "      <td>0.502292</td>\n",
       "      <td>0.219422</td>\n",
       "      <td>0.215153</td>\n",
       "      <td>69.99</td>\n",
       "      <td>0</td>\n",
       "    </tr>\n",
       "  </tbody>\n",
       "</table>\n",
       "<p>5 rows × 31 columns</p>\n",
       "</div>"
      ],
      "text/plain": [
       "   Time        V1        V2        V3        V4        V5        V6        V7   \n",
       "0     0 -1.359807 -0.072781  2.536347  1.378155 -0.338321  0.462388  0.239599  \\\n",
       "1     0  1.191857  0.266151  0.166480  0.448154  0.060018 -0.082361 -0.078803   \n",
       "2     1 -1.358354 -1.340163  1.773209  0.379780 -0.503198  1.800499  0.791461   \n",
       "3     1 -0.966272 -0.185226  1.792993 -0.863291 -0.010309  1.247203  0.237609   \n",
       "4     2 -1.158233  0.877737  1.548718  0.403034 -0.407193  0.095921  0.592941   \n",
       "\n",
       "         V8        V9  ...       V21       V22       V23       V24       V25   \n",
       "0  0.098698  0.363787  ... -0.018307  0.277838 -0.110474  0.066928  0.128539  \\\n",
       "1  0.085102 -0.255425  ... -0.225775 -0.638672  0.101288 -0.339846  0.167170   \n",
       "2  0.247676 -1.514654  ...  0.247998  0.771679  0.909412 -0.689281 -0.327642   \n",
       "3  0.377436 -1.387024  ... -0.108300  0.005274 -0.190321 -1.175575  0.647376   \n",
       "4 -0.270533  0.817739  ... -0.009431  0.798278 -0.137458  0.141267 -0.206010   \n",
       "\n",
       "        V26       V27       V28  Amount  Class  \n",
       "0 -0.189115  0.133558 -0.021053  149.62      0  \n",
       "1  0.125895 -0.008983  0.014724    2.69      1  \n",
       "2 -0.139097 -0.055353 -0.059752  378.66      0  \n",
       "3 -0.221929  0.062723  0.061458  123.50      0  \n",
       "4  0.502292  0.219422  0.215153   69.99      0  \n",
       "\n",
       "[5 rows x 31 columns]"
      ]
     },
     "execution_count": 71,
     "metadata": {},
     "output_type": "execute_result"
    }
   ],
   "source": [
    "data = pd.read_csv('C:/Users/Svea/Downloads/Creditcard_data.csv')\n",
    "data.head()"
   ]
  },
  {
   "cell_type": "code",
   "execution_count": 72,
   "metadata": {},
   "outputs": [
    {
     "data": {
      "text/plain": [
       "(772, 31)"
      ]
     },
     "execution_count": 72,
     "metadata": {},
     "output_type": "execute_result"
    }
   ],
   "source": [
    "data.shape"
   ]
  },
  {
   "cell_type": "code",
   "execution_count": 73,
   "metadata": {},
   "outputs": [
    {
     "data": {
      "text/plain": [
       "Class\n",
       "0    763\n",
       "1      9\n",
       "Name: count, dtype: int64"
      ]
     },
     "execution_count": 73,
     "metadata": {},
     "output_type": "execute_result"
    }
   ],
   "source": [
    "data['Class'].value_counts()"
   ]
  },
  {
   "cell_type": "code",
   "execution_count": 74,
   "metadata": {},
   "outputs": [],
   "source": [
    "time_count = Counter(data['Time'])\n",
    "data = data.drop('Time', axis=1)"
   ]
  },
  {
   "cell_type": "code",
   "execution_count": 75,
   "metadata": {},
   "outputs": [],
   "source": [
    "X, y = data.drop('Class', axis=1), data['Class']"
   ]
  },
  {
   "cell_type": "code",
   "execution_count": 76,
   "metadata": {},
   "outputs": [],
   "source": [
    "oversample = SMOTE()\n",
    "X, y = oversample.fit_resample(X, y)"
   ]
  },
  {
   "cell_type": "code",
   "execution_count": 77,
   "metadata": {},
   "outputs": [
    {
     "data": {
      "text/plain": [
       "Class\n",
       "0    763\n",
       "1    763\n",
       "Name: count, dtype: int64"
      ]
     },
     "execution_count": 77,
     "metadata": {},
     "output_type": "execute_result"
    }
   ],
   "source": [
    "y.value_counts()"
   ]
  },
  {
   "cell_type": "code",
   "execution_count": 78,
   "metadata": {},
   "outputs": [],
   "source": [
    "data_new = pd.concat([X, y], axis=1)"
   ]
  },
  {
   "cell_type": "code",
   "execution_count": 79,
   "metadata": {},
   "outputs": [],
   "source": [
    "from sklearn.model_selection import StratifiedShuffleSplit\n",
    "def get_samples():\n",
    "    sample_names = []\n",
    "    samples_x_train = []\n",
    "    samples_y_train = []\n",
    "    samples_x_test = []\n",
    "    samples_y_test = []\n",
    "\n",
    "    n = (1.92**2)*0.5*(1-0.5)/0.05**2\n",
    "\n",
    "    # 1. Simple random sampling\n",
    "    random_sample = data_new.sample(n=int(n), random_state=42)\n",
    "    X_sample, y_sample = random_sample.drop('Class', axis=1), random_sample['Class']\n",
    "    X_test, X_train, y_test, y_train = train_test_split(X_sample, y_sample, test_size=0.5, random_state=42)\n",
    "    samples_x_train.append(X_train)\n",
    "    samples_y_train.append(y_train)\n",
    "    samples_x_test.append(X_test)\n",
    "    samples_y_test.append(y_test)\n",
    "    sample_names.append('Random')\n",
    "\n",
    "    # 2. Stratified random sampling\n",
    "    stratified_sample = data_new.groupby('Class').apply(lambda x: x.sample(frac=0.5, random_state=42))\n",
    "    X_sample, y_sample = stratified_sample.drop('Class', axis=1), stratified_sample['Class']\n",
    "    X_test, X_train, y_test, y_train = train_test_split(X_sample, y_sample, test_size=0.5, random_state=42)\n",
    "    samples_x_train.append(X_train)\n",
    "    samples_y_train.append(y_train)\n",
    "    samples_x_test.append(X_test)\n",
    "    samples_y_test.append(y_test)\n",
    "    sample_names.append('Stratified')\n",
    "\n",
    "    # 3. Cluster sampling\n",
    "    sss = StratifiedShuffleSplit(n_splits=1, test_size=0.1, random_state=42)\n",
    "    for train_index, test_index in sss.split(X, y):\n",
    "        X_train, X_test = X.iloc[train_index], X.iloc[test_index]\n",
    "        y_train, y_test = y.iloc[train_index], y.iloc[test_index]\n",
    "        samples_x_train.append(X_train)\n",
    "        samples_y_train.append(y_train)\n",
    "        samples_x_test.append(X_test)\n",
    "        samples_y_test.append(y_test)\n",
    "        sample_names.append('Cluster')\n",
    "\n",
    "    # 4. Systematic sampling\n",
    "    k = int(len(data_new)/n)\n",
    "    start = np.random.randint(0, k)\n",
    "    systematic_sample = data_new.iloc[start::k]\n",
    "    X_sample, y_sample = systematic_sample.drop('Class', axis=1), systematic_sample['Class']\n",
    "    X_test, X_train, y_test, y_train = train_test_split(X_sample, y_sample, test_size=0.5, random_state=42)\n",
    "    samples_x_train.append(X_train)\n",
    "    samples_y_train.append(y_train)\n",
    "    samples_x_test.append(X_test)\n",
    "    samples_y_test.append(y_test)\n",
    "    sample_names.append('Systematic')\n",
    "\n",
    "    return samples_x_train, samples_y_train, samples_x_test, samples_y_test, sample_names\n"
   ]
  },
  {
   "cell_type": "code",
   "execution_count": 80,
   "metadata": {},
   "outputs": [],
   "source": [
    "from sklearn.preprocessing import StandardScaler\n",
    "from sklearn.pipeline import Pipeline\n",
    "from sklearn.tree import DecisionTreeClassifier\n",
    "from sklearn.neighbors import KNeighborsClassifier\n",
    "from sklearn.ensemble import RandomForestClassifier\n",
    "from sklearn.ensemble import BaggingClassifier\n",
    "from sklearn.linear_model import LogisticRegression\n",
    "from sklearn.svm import SVC  \n",
    "from sklearn.naive_bayes import GaussianNB  \n",
    "\n",
    "def get_models():\n",
    "    models, names = list(), list()\n",
    "    steps = [('s',StandardScaler()),('m',KNeighborsClassifier())]\n",
    "    models.append(Pipeline(steps=steps))\n",
    "    names.append('KNN')\n",
    "    # Bagging\n",
    "    models.append(BaggingClassifier(n_estimators=100))\n",
    "    names.append('BAG')\n",
    "    # RF\n",
    "    models.append(RandomForestClassifier(n_estimators=50))\n",
    "    names.append('RF')\n",
    "     # SVM\n",
    "    steps = [('s', StandardScaler()), ('m', SVC())]\n",
    "    models.append(Pipeline(steps=steps))\n",
    "    names.append('SVM')\n",
    "    # NB\n",
    "    models.append(GaussianNB())\n",
    "    names.append('NB')\n",
    "    return models, names\n",
    "    return models, names"
   ]
  },
  {
   "cell_type": "code",
   "execution_count": 81,
   "metadata": {},
   "outputs": [],
   "source": [
    "from sklearn.model_selection import cross_val_score\n",
    "from sklearn.model_selection import KFold\n",
    "\n",
    "def evaluate_model(X, y, model):\n",
    "    cv = KFold(n_splits=10, random_state=1, shuffle=True)\n",
    "    scores = cross_val_score(model, X, y, scoring='accuracy', cv=cv, n_jobs=-1)\n",
    "    return scores"
   ]
  },
  {
   "cell_type": "code",
   "execution_count": 82,
   "metadata": {},
   "outputs": [
    {
     "name": "stdout",
     "output_type": "stream",
     "text": [
      "Sampling: Random\n",
      ">KNN 0.777 (0.098)\n"
     ]
    },
    {
     "name": "stdout",
     "output_type": "stream",
     "text": [
      ">BAG 0.902 (0.092)\n",
      ">RF 0.961 (0.043)\n",
      ">SVM 0.928 (0.083)\n",
      ">NB 0.711 (0.089)\n",
      "Sampling: Stratified\n",
      ">KNN 0.874 (0.048)\n",
      ">BAG 0.976 (0.018)\n",
      ">RF 0.989 (0.017)\n",
      ">SVM 0.979 (0.023)\n",
      ">NB 0.676 (0.051)\n",
      "Sampling: Cluster\n",
      ">KNN 0.962 (0.016)\n",
      ">BAG 0.991 (0.008)\n",
      ">RF 0.997 (0.005)\n",
      ">SVM 0.983 (0.010)\n",
      ">NB 0.728 (0.031)\n",
      "Sampling: Systematic\n",
      ">KNN 0.822 (0.057)\n",
      ">BAG 0.948 (0.062)\n",
      ">RF 0.969 (0.035)\n",
      ">SVM 0.942 (0.028)\n",
      ">NB 0.748 (0.062)\n"
     ]
    }
   ],
   "source": [
    "from numpy import mean\n",
    "from numpy import std\n",
    "from sklearn.metrics import accuracy_score\n",
    "\n",
    "models, names = get_models()\n",
    "samples_x_train, samples_y_train, samples_x_test, samples_y_test, sample_names = get_samples()\n",
    "results = list()\n",
    "\n",
    "for i in range(len(samples_x_train)):\n",
    "    print('Sampling: %s' % sample_names[i])\n",
    "    for j in range(len(models)):\n",
    "        scores = evaluate_model(samples_x_train[i], samples_y_train[i], models[j])\n",
    "        results.append(scores)\n",
    "        print('>%s %.3f (%.3f)' % (names[j], mean(scores), std(scores)))\n"
   ]
  },
  {
   "cell_type": "markdown",
   "metadata": {},
   "source": [
    "### Performance Evaluation"
   ]
  },
  {
   "cell_type": "code",
   "execution_count": 83,
   "metadata": {},
   "outputs": [
    {
     "name": "stdout",
     "output_type": "stream",
     "text": [
      "Sampling: Random, Model: KNN, Accuracy: 0.864\n",
      "Sampling: Random, Model: BAG, Accuracy: 0.940\n",
      "Sampling: Random, Model: RF, Accuracy: 0.973\n",
      "Sampling: Random, Model: SVM, Accuracy: 0.962\n",
      "Sampling: Random, Model: NB, Accuracy: 0.777\n",
      "Sampling: Stratified, Model: KNN, Accuracy: 0.882\n",
      "Sampling: Stratified, Model: BAG, Accuracy: 0.958\n",
      "Sampling: Stratified, Model: RF, Accuracy: 0.987\n",
      "Sampling: Stratified, Model: SVM, Accuracy: 0.974\n",
      "Sampling: Stratified, Model: NB, Accuracy: 0.725\n",
      "Sampling: Cluster, Model: KNN, Accuracy: 0.980\n",
      "Sampling: Cluster, Model: BAG, Accuracy: 0.993\n",
      "Sampling: Cluster, Model: RF, Accuracy: 0.993\n",
      "Sampling: Cluster, Model: SVM, Accuracy: 0.980\n",
      "Sampling: Cluster, Model: NB, Accuracy: 0.745\n",
      "Sampling: Systematic, Model: KNN, Accuracy: 0.805\n",
      "Sampling: Systematic, Model: BAG, Accuracy: 0.921\n",
      "Sampling: Systematic, Model: RF, Accuracy: 0.963\n",
      "Sampling: Systematic, Model: SVM, Accuracy: 0.974\n",
      "Sampling: Systematic, Model: NB, Accuracy: 0.663\n"
     ]
    }
   ],
   "source": [
    "scores = []\n",
    "for i in range(len(samples_x_test)):\n",
    "    for j in range(len(models)):\n",
    "        model = models[j]\n",
    "        model.fit(samples_x_train[i], samples_y_train[i])\n",
    "        y_pred = model.predict(samples_x_test[i])\n",
    "        scores.append(accuracy_score(samples_y_test[i], y_pred))\n",
    "        print('Sampling: %s, Model: %s, Accuracy: %.3f' % (sample_names[i], names[j], scores[-1]))"
   ]
  }
 ],
 "metadata": {
  "kernelspec": {
   "display_name": "Python 3 (ipykernel)",
   "language": "python",
   "name": "python3"
  },
  "language_info": {
   "codemirror_mode": {
    "name": "ipython",
    "version": 3
   },
   "file_extension": ".py",
   "mimetype": "text/x-python",
   "name": "python",
   "nbconvert_exporter": "python",
   "pygments_lexer": "ipython3",
   "version": "3.11.1"
  }
 },
 "nbformat": 4,
 "nbformat_minor": 2
}
